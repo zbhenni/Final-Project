{
 "cells": [
  {
   "cell_type": "markdown",
   "metadata": {},
   "source": [
    "File to Read QE output files and make them ready for analysis"
   ]
  },
  {
   "cell_type": "code",
   "execution_count": 7,
   "metadata": {
    "collapsed": false
   },
   "outputs": [],
   "source": [
    "#import csv\n",
    "#f=open(\"q2r - test.\", 'r')\n",
    "\n",
    "#next=f.readline()\n",
    "\n",
    "#while next != \"\":\n",
    "#    print(next.strip())\n",
    "#    next = f.readline()\n",
    "\n",
    "#print(next)\n",
    "#print f.readlines()\n",
    "\n",
    "#g = csv.reader(f)\n",
    "\n",
    "#for col in g:\n",
    "#    print col"
   ]
  },
  {
   "cell_type": "code",
   "execution_count": 81,
   "metadata": {
    "collapsed": false
   },
   "outputs": [
    {
     "name": "stdout",
     "output_type": "stream",
     "text": [
      "[[  1.00000000e+00   1.00000000e+00   1.00000000e+00   1.00000000e+00]\n",
      " [  1.00000000e+00   1.00000000e+00   1.00000000e+00   2.73228603e-01]\n",
      " [  2.00000000e+00   1.00000000e+00   1.00000000e+00  -3.79199667e-03]\n",
      " ..., \n",
      " [  1.00000000e+00   3.00000000e+00   3.00000000e+00  -8.22351111e-04]\n",
      " [  2.00000000e+00   3.00000000e+00   3.00000000e+00  -9.71231111e-04]\n",
      " [  3.00000000e+00   3.00000000e+00   3.00000000e+00  -8.22351111e-04]]\n"
     ]
    }
   ],
   "source": [
    "# Convert a file with the Interstial Force Constants from a text file into an array. This will allow the numerical values\n",
    "# to be analyzed. \n",
    "\n",
    "import numpy as np\n",
    "\n",
    "\n",
    "f=open(\"si.444.fc\")     # open the file\n",
    "Data = f.readlines()    # Read the file\n",
    "Data = Data[17::]       # Discard the beginning of the file, which constains information on the lattice. It is not needed\n",
    "\n",
    "\n",
    "# This does several things:\n",
    "#   - it removes all the 'new line' characters with split\n",
    "#   - it splits the individual numbers elements separated by a space into different list elements\n",
    "for n in range(len(Data)):\n",
    "    Data[n] = Data[n].strip().split()\n",
    "\n",
    "# -------\n",
    "# Separate and filter the list elements into an array \n",
    "# -------\n",
    "\n",
    "# Creare the array where the elements will be stored\n",
    "IFC = np.zeros((len(Data),4))\n",
    "\n",
    "# assign elements of the list into an array\n",
    "for n in range(len(Data)):\n",
    "    Data_temp = Data[n]\n",
    "    for i in range(4):\n",
    "        IFC[n,i] = Data_temp[i]\n",
    "\n",
    "print IFC\n",
    "\n",
    "\n",
    "\n"
   ]
  },
  {
   "cell_type": "code",
   "execution_count": null,
   "metadata": {
    "collapsed": true
   },
   "outputs": [],
   "source": [
    "\n"
   ]
  }
 ],
 "metadata": {
  "kernelspec": {
   "display_name": "Python 2",
   "language": "python",
   "name": "python2"
  },
  "language_info": {
   "codemirror_mode": {
    "name": "ipython",
    "version": 2
   },
   "file_extension": ".py",
   "mimetype": "text/x-python",
   "name": "python",
   "nbconvert_exporter": "python",
   "pygments_lexer": "ipython2",
   "version": "2.7.10"
  }
 },
 "nbformat": 4,
 "nbformat_minor": 0
}
