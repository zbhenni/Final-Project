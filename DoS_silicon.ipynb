{
 "cells": [
  {
   "cell_type": "code",
   "execution_count": 45,
   "metadata": {
    "collapsed": false
   },
   "outputs": [
    {
     "name": "stdout",
     "output_type": "stream",
     "text": [
      "110\n"
     ]
    },
    {
     "data": {
      "image/png": "[encoded data removed]",
      "text/plain": [
       "<matplotlib.figure.Figure at 0xa7aa780>"
      ]
     },
     "metadata": {},
     "output_type": "display_data"
    }
   ],
   "source": [
    "# Convert a file with the Band values from a text file into an array. This will allow the numerical values\n",
    "# to be analyzed. \n",
    "\n",
    "%matplotlib inline\n",
    "import numpy as np\n",
    "from numpy import linalg as LA\n",
    "import math\n",
    "from matplotlib import pyplot\n",
    "\n",
    "\n",
    "f=open(\"DoS-input.ps\")     # open the file\n",
    "Data = f.readlines()    # Read the file\n",
    "Data = Data[0::]       # Discard the beginning of the file, which constains information on the lattice. It is not needed\n",
    "\n",
    "\n",
    "# This does several things:\n",
    "#   - it removes all the 'new line' characters with split\n",
    "#   - it splits the individual numbers elements separated by a space into different list elements\n",
    "for n in range(len(Data)):\n",
    "    Data[n] = Data[n].strip().split()\n",
    "\n",
    "\n",
    "    \n",
    "# -------\n",
    "# Separate and filter the list elements into an array \n",
    "# -------\n",
    "\n",
    "# Create the array where the elements will be stored\n",
    "BVraw = np.zeros((len(Data),9))\n",
    "BVraw_1d = np.zeros(len(Data)*9)\n",
    "\n",
    "cnt = 0   # The Data was output in an unusual format, so value of 990 were added to the blank spaces to fill in the matrix,\n",
    "          # and make it easier to inport. I need to count how many 990's there are and create a new array without them later\n",
    "\n",
    "# assign elements of the list into an array\n",
    "for n in range(len(Data)):\n",
    "    Data_temp = Data[n]\n",
    "    for i in range(9):\n",
    "        BVraw[n,i] = Data_temp[i]\n",
    "        BVraw_1d[n*9+i] = Data_temp[i]\n",
    "        \n",
    "        if BVraw_1d[n*9+i]<900.:\n",
    "            cnt = cnt + 1\n",
    "        \n",
    "# now create the 1-d array with all the values. This array will be used to make a histogram\n",
    "BV_1d = np.zeros(cnt)\n",
    "cnt2 = 0\n",
    "\n",
    "for n in range(cnt):\n",
    "    if BVraw_1d[n] < 900:\n",
    "        BV_1d[cnt2] = BVraw_1d[n]\n",
    "        cnt2 +=1\n",
    "\n",
    "# Plot a histogram of the values\n",
    "val, bns = np.histogram(BV_1d,bins=110)\n",
    "\n",
    "#pyplot.plot(np.arange(0,500,4),val)\n",
    "pyplot.plot(np.arange(0,len(val)),val)\n",
    "\n",
    "print len(val)"
   ]
  },
  {
   "cell_type": "code",
   "execution_count": 16,
   "metadata": {
    "collapsed": false
   },
   "outputs": [
    {
     "name": "stdout",
     "output_type": "stream",
     "text": [
      "900.0\n"
     ]
    }
   ],
   "source": [
    "a = 900.\n",
    "\n",
    "if a<910:\n",
    "    print a"
   ]
  },
  {
   "cell_type": "code",
   "execution_count": null,
   "metadata": {
    "collapsed": true
   },
   "outputs": [],
   "source": []
  }
 ],
 "metadata": {
  "kernelspec": {
   "display_name": "Python 2",
   "language": "python",
   "name": "python2"
  },
  "language_info": {
   "codemirror_mode": {
    "name": "ipython",
    "version": 2
   },
   "file_extension": ".py",
   "mimetype": "text/x-python",
   "name": "python",
   "nbconvert_exporter": "python",
   "pygments_lexer": "ipython2",
   "version": "2.7.10"
  }
 },
 "nbformat": 4,
 "nbformat_minor": 0
}
